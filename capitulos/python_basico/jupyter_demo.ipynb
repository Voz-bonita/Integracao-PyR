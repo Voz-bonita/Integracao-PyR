{
 "cells": [
  {
   "cell_type": "markdown",
   "id": "4be11d72",
   "metadata": {},
   "source": [
    "# Sintaxe do Python"
   ]
  },
  {
   "cell_type": "markdown",
   "id": "7e112d45",
   "metadata": {},
   "source": [
    "### Definindo variáveis"
   ]
  },
  {
   "cell_type": "code",
   "execution_count": 8,
   "id": "ebc027ab",
   "metadata": {},
   "outputs": [
    {
     "name": "stdout",
     "output_type": "stream",
     "text": [
      "Aluno1\n",
      "Aluno2\n",
      "Aluno3\n"
     ]
    }
   ],
   "source": [
    "var1 = 'Aluno1'\n",
    "var2, var3 = 'Aluno2', 'Aluno3'\n",
    "print(var1)\n",
    "print(var2)\n",
    "print(var3)"
   ]
  },
  {
   "cell_type": "markdown",
   "id": "51e8f250",
   "metadata": {},
   "source": [
    "### Classes das variáveis"
   ]
  },
  {
   "cell_type": "code",
   "execution_count": 24,
   "id": "54e2a7a7",
   "metadata": {},
   "outputs": [],
   "source": [
    "type1 = 4\n",
    "type2 = 4.55\n",
    "type3 = \"string\"\n",
    "type4 = True\n",
    "type5 = [4, 4.55, 'string', True]\n",
    "type6 = {\"afeghanistan\":30.55, \"albania\":2.77, \"algeria\":39.21}"
   ]
  },
  {
   "cell_type": "code",
   "execution_count": 25,
   "id": "15971c6b",
   "metadata": {},
   "outputs": [
    {
     "name": "stdout",
     "output_type": "stream",
     "text": [
      "<class 'int'>\n",
      "<class 'float'>\n",
      "<class 'str'>\n",
      "<class 'bool'>\n",
      "<class 'list'>\n",
      "<class 'dict'>\n"
     ]
    }
   ],
   "source": [
    "print(type(type1))\n",
    "print(type(type2))\n",
    "print(type(type3))\n",
    "print(type(type4))\n",
    "print(type(type5))\n",
    "print(type(type6))"
   ]
  },
  {
   "cell_type": "markdown",
   "id": "eeb04ec2",
   "metadata": {},
   "source": [
    "### Métodos"
   ]
  },
  {
   "cell_type": "code",
   "execution_count": 27,
   "id": "295c3ca9",
   "metadata": {},
   "outputs": [
    {
     "name": "stdout",
     "output_type": "stream",
     "text": [
      "string\n",
      "[4, 4.55, 'string', True, 'dict', 'dict']\n"
     ]
    }
   ],
   "source": [
    "# Método para string\n",
    "print(type3.capitalize())\n",
    "\n",
    "# Método para list\n",
    "type5.append('dict')\n",
    "print(type5)"
   ]
  },
  {
   "cell_type": "markdown",
   "id": "115f3c0f",
   "metadata": {},
   "source": [
    "### Importando bibliotecas"
   ]
  },
  {
   "cell_type": "code",
   "execution_count": 11,
   "id": "40455739",
   "metadata": {},
   "outputs": [],
   "source": [
    "import pandas as pd\n",
    "import numpy as np\n",
    "import seaborn as sns"
   ]
  },
  {
   "cell_type": "markdown",
   "id": "48fdf3a6",
   "metadata": {},
   "source": [
    "### if else"
   ]
  },
  {
   "cell_type": "code",
   "execution_count": 28,
   "id": "ec4ba281",
   "metadata": {},
   "outputs": [
    {
     "name": "stdout",
     "output_type": "stream",
     "text": [
      "looking around in the bedroom.\n"
     ]
    }
   ],
   "source": [
    "# Define variables\n",
    "room = \"bed\"\n",
    "area = 14.0\n",
    "\n",
    "# if-elif-else construct for room\n",
    "if room == \"kit\" :\n",
    "    print(\"looking around in the kitchen.\")\n",
    "elif room == \"bed\":\n",
    "    print(\"looking around in the bedroom.\")\n",
    "else :\n",
    "    print(\"looking around elsewhere.\")"
   ]
  },
  {
   "cell_type": "markdown",
   "id": "32e4bd31",
   "metadata": {},
   "source": [
    "### while"
   ]
  },
  {
   "cell_type": "code",
   "execution_count": 30,
   "id": "dc6f4619",
   "metadata": {},
   "outputs": [
    {
     "name": "stdout",
     "output_type": "stream",
     "text": [
      "12.5\n",
      "3.125\n",
      "0.78125\n"
     ]
    }
   ],
   "source": [
    "error = 50.0\n",
    "\n",
    "while error > 1:\n",
    "    error = error / 4\n",
    "    print(error)"
   ]
  },
  {
   "cell_type": "markdown",
   "id": "de780843",
   "metadata": {},
   "source": [
    "### for"
   ]
  },
  {
   "cell_type": "code",
   "execution_count": 31,
   "id": "f86ed12e",
   "metadata": {},
   "outputs": [
    {
     "name": "stdout",
     "output_type": "stream",
     "text": [
      "1.73\n",
      "1.68\n",
      "1.71\n",
      "1.89\n"
     ]
    }
   ],
   "source": [
    "fam = [1.73, 1.68, 1.71, 1.89]\n",
    "for i in fam : # Mais possibilidades\n",
    "    print(i)"
   ]
  }
 ],
 "metadata": {
  "kernelspec": {
   "display_name": "Python 3 (ipykernel)",
   "language": "python",
   "name": "python3"
  },
  "language_info": {
   "codemirror_mode": {
    "name": "ipython",
    "version": 3
   },
   "file_extension": ".py",
   "mimetype": "text/x-python",
   "name": "python",
   "nbconvert_exporter": "python",
   "pygments_lexer": "ipython3",
   "version": "3.9.12"
  }
 },
 "nbformat": 4,
 "nbformat_minor": 5
}
